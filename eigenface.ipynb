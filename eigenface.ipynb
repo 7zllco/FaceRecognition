{
  "nbformat": 4,
  "nbformat_minor": 0,
  "metadata": {
    "colab": {
      "provenance": []
    },
    "kernelspec": {
      "name": "python3",
      "display_name": "Python 3"
    },
    "language_info": {
      "name": "python"
    },
    "accelerator": "GPU"
  },
  "cells": [
    {
      "cell_type": "code",
      "execution_count": null,
      "metadata": {
        "id": "c4UCA_Fo7B28"
      },
      "outputs": [],
      "source": [
        "import time\n",
        "import os\n",
        "import cv2\n",
        "import numpy as np\n",
        "import matplotlib as mpl\n",
        "import matplotlib.pyplot as plt\n",
        "from os.path import join\n",
        "from glob import glob\n",
        "from tqdm.notebook import tqdm"
      ]
    },
    {
      "cell_type": "code",
      "source": [
        "train_path = '/content/drive/MyDrive/data/pca_data1/train'\n",
        "test_path = '/content/drive/MyDrive/data/pca_data1/test'\n",
        "\n",
        "list_train = sorted(glob(join(train_path, '*')))\n",
        "list_test = sorted(glob(join(test_path, '*')))"
      ],
      "metadata": {
        "id": "avVrvnJh8dh2"
      },
      "execution_count": null,
      "outputs": []
    },
    {
      "cell_type": "markdown",
      "source": [
        "## 2차원 이미지를 1차원 배열로 만듦"
      ],
      "metadata": {
        "id": "ff7YJ24HtU-l"
      }
    },
    {
      "cell_type": "code",
      "source": [
        "X = [] #(50, 37)을 1차원 배열로 바꾼 후 966개를 쌓아 만든 2차원 배열\n",
        "train_info = [] #각각의 데이터의 주인과 사진파일명 저장\n",
        "\n",
        "for i in range(len(list_train)) :\n",
        "  path = list_train[i]\n",
        "  list_img = sorted(glob(join(path, '*.png'))) #주어진 폴더 경로에서 png 확장자의 파일명 전부 저장\n",
        "  name = path.split('/')[-1]\n",
        "  for j in range(len(list_img)) :\n",
        "    #사진파일 불러와 1차원으로 수정\n",
        "    data = cv2.imread(list_img[j], 0)\n",
        "    data = data.reshape(-1)\n",
        "    X.append(data.tolist())\n",
        "    #train_info에 사람이름과 파일명 저장\n",
        "    tmp = []\n",
        "    tmp.append(name)\n",
        "    tmp.append(list_img[j].split('/')[-1])\n",
        "    train_info.append(tmp)\n",
        "\n",
        "X = np.array(X, dtype='float')\n",
        "train_info = np.array(train_info)\n",
        "print(X.shape)"
      ],
      "metadata": {
        "colab": {
          "base_uri": "https://localhost:8080/"
        },
        "id": "ECYYcJSAPMXq",
        "outputId": "6918df2d-3b46-42a2-bc04-69cda2c66a24"
      },
      "execution_count": null,
      "outputs": [
        {
          "output_type": "stream",
          "name": "stdout",
          "text": [
            "(966, 1850)\n"
          ]
        }
      ]
    },
    {
      "cell_type": "code",
      "source": [
        "Y = []\n",
        "test_info = []\n",
        "\n",
        "for i in range(len(list_test)) :\n",
        "  path = list_test[i]\n",
        "  list_img = sorted(glob(join(path, '*.png')))\n",
        "  name = path.split('/')[-1]\n",
        "  for j in range(len(list_img)) :\n",
        "    data = cv2.imread(list_img[j], 0)\n",
        "    data = data.reshape(-1)\n",
        "    Y.append(data.tolist())\n",
        "    tmp = []\n",
        "    tmp.append(name)\n",
        "    tmp.append(list_img[j].split('/')[-1])\n",
        "    test_info.append(tmp)\n",
        "\n",
        "Y = np.array(Y, dtype='float')\n",
        "test_info = np.array(test_info)\n",
        "print(Y.shape)"
      ],
      "metadata": {
        "colab": {
          "base_uri": "https://localhost:8080/"
        },
        "id": "lCfk0UPIfLKT",
        "outputId": "a3c0dce1-3cb0-489c-e352-a6052c88692d"
      },
      "execution_count": null,
      "outputs": [
        {
          "output_type": "stream",
          "name": "stdout",
          "text": [
            "(322, 1850)\n"
          ]
        }
      ]
    },
    {
      "cell_type": "markdown",
      "source": [
        "## 평균 벡터 m 구하기"
      ],
      "metadata": {
        "id": "ntAfnSacZwaJ"
      }
    },
    {
      "cell_type": "code",
      "source": [
        "m = X.sum(axis=0) / len(X)\n",
        "print(m)\n",
        "print(m.shape)"
      ],
      "metadata": {
        "colab": {
          "base_uri": "https://localhost:8080/"
        },
        "id": "oL5SZwKcPML4",
        "outputId": "17548a2b-9e2a-4208-d898-c385637e89f8"
      },
      "execution_count": null,
      "outputs": [
        {
          "output_type": "stream",
          "name": "stdout",
          "text": [
            "[ 92.72877847  97.71221532 108.09006211 ... 120.94927536 113.70910973\n",
            " 106.42650104]\n",
            "(1850,)\n"
          ]
        }
      ]
    },
    {
      "cell_type": "markdown",
      "source": [
        "## X와 m의 차 구하기"
      ],
      "metadata": {
        "id": "-h7h4MlXZ5KI"
      }
    },
    {
      "cell_type": "code",
      "source": [
        "for i in range(len(X)) :\n",
        "  X[i] = X[i] - m\n",
        "\n",
        "print(X.sum())"
      ],
      "metadata": {
        "colab": {
          "base_uri": "https://localhost:8080/"
        },
        "id": "1iiIQmpgPL1H",
        "outputId": "a640750f-f330-4aee-805f-5c38d4918c2f"
      },
      "execution_count": null,
      "outputs": [
        {
          "output_type": "stream",
          "name": "stdout",
          "text": [
            "-4.9112713895738125e-11\n"
          ]
        }
      ]
    },
    {
      "cell_type": "markdown",
      "source": [
        "## 공분산 행렬 cov 구하기"
      ],
      "metadata": {
        "id": "ROX87HkHaGde"
      }
    },
    {
      "cell_type": "code",
      "source": [
        "X = X.T\n",
        "cov = X @ X.T / len(X)\n",
        "\n",
        "print(cov.shape)\n",
        "print(cov)"
      ],
      "metadata": {
        "colab": {
          "base_uri": "https://localhost:8080/"
        },
        "id": "EBwx7ARORhko",
        "outputId": "be298fce-f506-43a5-f1b9-ffd964e5977e"
      },
      "execution_count": null,
      "outputs": [
        {
          "output_type": "stream",
          "name": "stdout",
          "text": [
            "(1850, 1850)\n",
            "[[1141.5367243  1045.60356779  844.86518717 ...  -21.28772425\n",
            "   -46.49092608  -75.93689553]\n",
            " [1045.60356779 1070.89297073  929.70650663 ...   -9.61897376\n",
            "   -27.00100946  -62.80239606]\n",
            " [ 844.86518717  929.70650663  970.23198086 ...  -24.05058754\n",
            "   -39.12577975  -79.43573275]\n",
            " ...\n",
            " [ -21.28772425   -9.61897376  -24.05058754 ... 3162.05217\n",
            "  2900.60526831 2393.5350803 ]\n",
            " [ -46.49092608  -27.00100946  -39.12577975 ... 2900.60526831\n",
            "  3237.05689721 3023.86424151]\n",
            " [ -75.93689553  -62.80239606  -79.43573275 ... 2393.5350803\n",
            "  3023.86424151 3303.32123328]]\n"
          ]
        }
      ]
    },
    {
      "cell_type": "markdown",
      "source": [
        "## 고유값, 고유벡터 구하기"
      ],
      "metadata": {
        "id": "Vf1IF2a2adVZ"
      }
    },
    {
      "cell_type": "code",
      "source": [
        "eigen_val, eigen_vec = np.linalg.eig(cov)\n",
        "print(eigen_val)\n",
        "print(eigen_vec)"
      ],
      "metadata": {
        "colab": {
          "base_uri": "https://localhost:8080/"
        },
        "id": "pz6rPuyBRhc6",
        "outputId": "3bf04557-7f8d-499c-b240-95bc5325e46f"
      },
      "execution_count": null,
      "outputs": [
        {
          "output_type": "stream",
          "name": "stdout",
          "text": [
            "[2.61550515e+05+0.00000000e+00j 2.04373745e+05+0.00000000e+00j\n",
            " 9.57689511e+04+0.00000000e+00j ... 4.98540963e-14-7.65220470e-14j\n",
            " 8.91823448e-14+1.17135712e-14j 8.91823448e-14-1.17135712e-14j]\n",
            "[[ 0.00684654+0.00000000e+00j -0.02303448+0.00000000e+00j\n",
            "   0.02188003+0.00000000e+00j ... -0.00350249+9.19143549e-04j\n",
            "  -0.00041862+1.09854598e-04j -0.00041862-1.09854598e-04j]\n",
            " [ 0.00752831+0.00000000e+00j -0.02154981+0.00000000e+00j\n",
            "   0.02018681+0.00000000e+00j ... -0.00089411+2.54948684e-04j\n",
            "   0.00062838+9.09908465e-05j  0.00062838-9.09908465e-05j]\n",
            " [ 0.00917916+0.00000000e+00j -0.02277939+0.00000000e+00j\n",
            "   0.01902509+0.00000000e+00j ...  0.00080517+7.40616676e-04j\n",
            "  -0.00035662+2.96508037e-06j -0.00035662-2.96508037e-06j]\n",
            " ...\n",
            " [ 0.01430729+0.00000000e+00j  0.04398711+0.00000000e+00j\n",
            "   0.05722535+0.00000000e+00j ...  0.01930511+5.65052529e-03j\n",
            "  -0.01025137+2.59419323e-04j -0.01025137-2.59419323e-04j]\n",
            " [ 0.01293851+0.00000000e+00j  0.04318153+0.00000000e+00j\n",
            "   0.05075455+0.00000000e+00j ...  0.00856924-1.23577114e-03j\n",
            "   0.00090413-1.58122145e-03j  0.00090413+1.58122145e-03j]\n",
            " [ 0.01188312+0.00000000e+00j  0.04226958+0.00000000e+00j\n",
            "   0.04723728+0.00000000e+00j ...  0.00488848+1.31097034e-04j\n",
            "  -0.0012651 -3.18609278e-04j -0.0012651 +3.18609278e-04j]]\n"
          ]
        }
      ]
    },
    {
      "cell_type": "markdown",
      "source": [
        "## 각각의 PC에 대해 중요도 구하기"
      ],
      "metadata": {
        "id": "Mb5jVDwmalNX"
      }
    },
    {
      "cell_type": "code",
      "source": [
        "variations = eigen_val / (len(eigen_val) - 1)\n",
        "importances = variations / variations.sum()\n",
        "\n",
        "print(\"%.2f\" %(importances.sum()))"
      ],
      "metadata": {
        "colab": {
          "base_uri": "https://localhost:8080/"
        },
        "id": "ThgLnWYITXTH",
        "outputId": "c50082d4-bf8f-4804-cca6-143d19886426"
      },
      "execution_count": null,
      "outputs": [
        {
          "output_type": "stream",
          "name": "stdout",
          "text": [
            "1.00\n"
          ]
        },
        {
          "output_type": "stream",
          "name": "stderr",
          "text": [
            "/usr/local/lib/python3.7/dist-packages/ipykernel_launcher.py:4: ComplexWarning: Casting complex values to real discards the imaginary part\n",
            "  after removing the cwd from sys.path.\n"
          ]
        }
      ]
    },
    {
      "cell_type": "markdown",
      "source": [
        "## 고유값 상위 5개의 eigenface 시각화하기"
      ],
      "metadata": {
        "id": "wlu1Tu36a9c6"
      }
    },
    {
      "cell_type": "code",
      "source": [
        "for i in range(5) :\n",
        "  vec = np.reshape(eigen_vec[:, i], (50, 37))\n",
        "  vec = np.array(vec*10000, dtype='int')\n",
        "  plt.subplot(2,3,i+1)\n",
        "  plt.imshow(vec, cmap='gray')"
      ],
      "metadata": {
        "colab": {
          "base_uri": "https://localhost:8080/",
          "height": 304
        },
        "id": "y-xMdCBETHFb",
        "outputId": "757ddace-dd8a-4409-ba48-1a36dc4f5e62"
      },
      "execution_count": null,
      "outputs": [
        {
          "output_type": "stream",
          "name": "stderr",
          "text": [
            "/usr/local/lib/python3.7/dist-packages/ipykernel_launcher.py:3: ComplexWarning: Casting complex values to real discards the imaginary part\n",
            "  This is separate from the ipykernel package so we can avoid doing imports until\n"
          ]
        },
        {
          "output_type": "display_data",
          "data": {
            "text/plain": [
              "<Figure size 432x288 with 5 Axes>"
            ],
            "image/png": "[encoded data removed]"
          },
          "metadata": {
            "needs_background": "light"
          }
        }
      ]
    },
    {
      "cell_type": "markdown",
      "source": [
        "## 고유 벡터의 개수에 따른 퍼센트"
      ],
      "metadata": {
        "id": "NoHLnAQRcRve"
      }
    },
    {
      "cell_type": "code",
      "source": [
        "print(\"%.2f\" %(importances[:3].sum()))\n",
        "print(\"%.2f\" %(importances[:128].sum()))\n",
        "print(\"%.2f\" %(importances[:512].sum()))\n",
        "print(\"%.2f\" %(importances[:1024].sum()))"
      ],
      "metadata": {
        "colab": {
          "base_uri": "https://localhost:8080/"
        },
        "id": "ttLiL3xTgmxq",
        "outputId": "9391c126-88e7-48f2-8c1b-a9e2164f9a4b"
      },
      "execution_count": null,
      "outputs": [
        {
          "output_type": "stream",
          "name": "stdout",
          "text": [
            "0.42\n",
            "0.95\n",
            "1.00\n",
            "1.00\n"
          ]
        },
        {
          "output_type": "stream",
          "name": "stderr",
          "text": [
            "/usr/local/lib/python3.7/dist-packages/ipykernel_launcher.py:1: ComplexWarning: Casting complex values to real discards the imaginary part\n",
            "  \"\"\"Entry point for launching an IPython kernel.\n",
            "/usr/local/lib/python3.7/dist-packages/ipykernel_launcher.py:2: ComplexWarning: Casting complex values to real discards the imaginary part\n",
            "  \n",
            "/usr/local/lib/python3.7/dist-packages/ipykernel_launcher.py:3: ComplexWarning: Casting complex values to real discards the imaginary part\n",
            "  This is separate from the ipykernel package so we can avoid doing imports until\n",
            "/usr/local/lib/python3.7/dist-packages/ipykernel_launcher.py:4: ComplexWarning: Casting complex values to real discards the imaginary part\n",
            "  after removing the cwd from sys.path.\n"
          ]
        }
      ]
    },
    {
      "cell_type": "code",
      "source": [
        "V = eigen_vec[:,:128] #고유벡터를 상위 몇개만 추려 만든 V\n",
        "x = V.T @ X #V와 X를 통해 만든 특징벡터 x\n",
        "\n",
        "print(x.shape)"
      ],
      "metadata": {
        "colab": {
          "base_uri": "https://localhost:8080/"
        },
        "id": "QO62N7b_fqct",
        "outputId": "44c01951-82f0-499e-f97e-ef04798ece37"
      },
      "execution_count": null,
      "outputs": [
        {
          "output_type": "stream",
          "name": "stdout",
          "text": [
            "(128, 966)\n"
          ]
        }
      ]
    },
    {
      "cell_type": "markdown",
      "source": [
        "## 테스트할 데이터를 처리함"
      ],
      "metadata": {
        "id": "t4YA_HYAd1V2"
      }
    },
    {
      "cell_type": "code",
      "source": [
        "Y = Y - m\n",
        "Y = Y.T\n",
        "y = V.T @ Y\n",
        "\n",
        "print(y.shape)"
      ],
      "metadata": {
        "colab": {
          "base_uri": "https://localhost:8080/"
        },
        "id": "4meLwJNjBH5o",
        "outputId": "2b4fddde-946e-4642-9f20-885d239180b1"
      },
      "execution_count": null,
      "outputs": [
        {
          "output_type": "stream",
          "name": "stdout",
          "text": [
            "(128, 322)\n"
          ]
        }
      ]
    },
    {
      "cell_type": "markdown",
      "source": [
        "## y 중 하나와 가장 가까운 x 찾아 매칭(유클리디안)"
      ],
      "metadata": {
        "id": "Yo8_s1oUeb_G"
      }
    },
    {
      "cell_type": "code",
      "source": [
        "y_pred_euc = []\n",
        "\n",
        "for i in range(len(y.T)) :\n",
        "  min = 99999999\n",
        "  index = -1\n",
        "  for j in range(len(x.T)) :\n",
        "    tmp = y[:,i] - x[:,j]\n",
        "    dist = np.sqrt(tmp @ tmp.T)\n",
        "    if(min > dist) :\n",
        "      min = dist\n",
        "      index = j\n",
        "  y_pred_euc.append(train_info[index].tolist())\n",
        "\n",
        "y_pred_euc = np.array(y_pred_euc)\n",
        "\n",
        "print(y_pred_euc)\n",
        "print(len(y_pred_euc))"
      ],
      "metadata": {
        "colab": {
          "base_uri": "https://localhost:8080/"
        },
        "id": "w7SwrDK2RhTF",
        "outputId": "428d6a0d-c885-4e8a-86af-9afd3fe8cafe"
      },
      "execution_count": null,
      "outputs": [
        {
          "output_type": "stream",
          "name": "stdout",
          "text": [
            "[['Ariel_Sharon' '00413.png']\n",
            " ['Ariel_Sharon' '00651.png']\n",
            " ['Ariel_Sharon' '00260.png']\n",
            " ['Ariel_Sharon' '00289.png']\n",
            " ['Colin_Powell' '00447.png']\n",
            " ['Colin_Powell' '00087.png']\n",
            " ['George_W_Bush' '00199.png']\n",
            " ['Donald_Rumsfeld' '00573.png']\n",
            " ['Gerhard_Schroeder' '00403.png']\n",
            " ['Colin_Powell' '00867.png']\n",
            " ['Ariel_Sharon' '00873.png']\n",
            " ['Colin_Powell' '00787.png']\n",
            " ['Donald_Rumsfeld' '00002.png']\n",
            " ['Colin_Powell' '00494.png']\n",
            " ['Colin_Powell' '00104.png']\n",
            " ['Colin_Powell' '00489.png']\n",
            " ['George_W_Bush' '00552.png']\n",
            " ['Colin_Powell' '00013.png']\n",
            " ['Gerhard_Schroeder' '00699.png']\n",
            " ['George_W_Bush' '00528.png']\n",
            " ['Colin_Powell' '00547.png']\n",
            " ['Donald_Rumsfeld' '00206.png']\n",
            " ['Colin_Powell' '00597.png']\n",
            " ['Colin_Powell' '00494.png']\n",
            " ['Ariel_Sharon' '00289.png']\n",
            " ['Colin_Powell' '00266.png']\n",
            " ['George_W_Bush' '00791.png']\n",
            " ['Tony_Blair' '00201.png']\n",
            " ['Colin_Powell' '00301.png']\n",
            " ['Colin_Powell' '00571.png']\n",
            " ['George_W_Bush' '00370.png']\n",
            " ['Donald_Rumsfeld' '00175.png']\n",
            " ['George_W_Bush' '00540.png']\n",
            " ['Colin_Powell' '00097.png']\n",
            " ['Colin_Powell' '00104.png']\n",
            " ['Colin_Powell' '00393.png']\n",
            " ['Colin_Powell' '00638.png']\n",
            " ['Tony_Blair' '00319.png']\n",
            " ['Colin_Powell' '00924.png']\n",
            " ['George_W_Bush' '00181.png']\n",
            " ['Colin_Powell' '00919.png']\n",
            " ['Hugo_Chavez' '00531.png']\n",
            " ['Tony_Blair' '00360.png']\n",
            " ['Colin_Powell' '00325.png']\n",
            " ['George_W_Bush' '00336.png']\n",
            " ['Donald_Rumsfeld' '00015.png']\n",
            " ['Colin_Powell' '00700.png']\n",
            " ['Donald_Rumsfeld' '00206.png']\n",
            " ['George_W_Bush' '00152.png']\n",
            " ['Colin_Powell' '00676.png']\n",
            " ['Colin_Powell' '00229.png']\n",
            " ['Colin_Powell' '00001.png']\n",
            " ['George_W_Bush' '00259.png']\n",
            " ['George_W_Bush' '00108.png']\n",
            " ['Gerhard_Schroeder' '00121.png']\n",
            " ['Donald_Rumsfeld' '00283.png']\n",
            " ['Colin_Powell' '00635.png']\n",
            " ['George_W_Bush' '00582.png']\n",
            " ['Donald_Rumsfeld' '00349.png']\n",
            " ['Colin_Powell' '00294.png']\n",
            " ['Colin_Powell' '00494.png']\n",
            " ['Ariel_Sharon' '00397.png']\n",
            " ['Colin_Powell' '00761.png']\n",
            " ['Donald_Rumsfeld' '00015.png']\n",
            " ['Colin_Powell' '00869.png']\n",
            " ['Colin_Powell' '00489.png']\n",
            " ['George_W_Bush' '00871.png']\n",
            " ['Hugo_Chavez' '00112.png']\n",
            " ['Ariel_Sharon' '00462.png']\n",
            " ['Donald_Rumsfeld' '00300.png']\n",
            " ['Colin_Powell' '00395.png']\n",
            " ['Donald_Rumsfeld' '00803.png']\n",
            " ['George_W_Bush' '00756.png']\n",
            " ['Donald_Rumsfeld' '00225.png']\n",
            " ['Donald_Rumsfeld' '00569.png']\n",
            " ['Colin_Powell' '00834.png']\n",
            " ['George_W_Bush' '00621.png']\n",
            " ['Ariel_Sharon' '00662.png']\n",
            " ['Donald_Rumsfeld' '00313.png']\n",
            " ['Donald_Rumsfeld' '00606.png']\n",
            " ['George_W_Bush' '00370.png']\n",
            " ['Ariel_Sharon' '00423.png']\n",
            " ['Donald_Rumsfeld' '00307.png']\n",
            " ['Donald_Rumsfeld' '00313.png']\n",
            " ['Donald_Rumsfeld' '00959.png']\n",
            " ['Colin_Powell' '00750.png']\n",
            " ['Donald_Rumsfeld' '00511.png']\n",
            " ['Donald_Rumsfeld' '00499.png']\n",
            " ['Ariel_Sharon' '00616.png']\n",
            " ['Donald_Rumsfeld' '00570.png']\n",
            " ['Donald_Rumsfeld' '00277.png']\n",
            " ['Donald_Rumsfeld' '00890.png']\n",
            " ['Donald_Rumsfeld' '00599.png']\n",
            " ['George_W_Bush' '00507.png']\n",
            " ['George_W_Bush' '00898.png']\n",
            " ['George_W_Bush' '00506.png']\n",
            " ['George_W_Bush' '00109.png']\n",
            " ['Colin_Powell' '00172.png']\n",
            " ['Donald_Rumsfeld' '00941.png']\n",
            " ['George_W_Bush' '00914.png']\n",
            " ['George_W_Bush' '00090.png']\n",
            " ['George_W_Bush' '00152.png']\n",
            " ['George_W_Bush' '00120.png']\n",
            " ['George_W_Bush' '00963.png']\n",
            " ['George_W_Bush' '00335.png']\n",
            " ['George_W_Bush' '00600.png']\n",
            " ['George_W_Bush' '00188.png']\n",
            " ['George_W_Bush' '00848.png']\n",
            " ['George_W_Bush' '00804.png']\n",
            " ['George_W_Bush' '00196.png']\n",
            " ['George_W_Bush' '00721.png']\n",
            " ['George_W_Bush' '00331.png']\n",
            " ['Tony_Blair' '00960.png']\n",
            " ['George_W_Bush' '00744.png']\n",
            " ['George_W_Bush' '00759.png']\n",
            " ['George_W_Bush' '00213.png']\n",
            " ['George_W_Bush' '00106.png']\n",
            " ['George_W_Bush' '00696.png']\n",
            " ['Gerhard_Schroeder' '00619.png']\n",
            " ['George_W_Bush' '00655.png']\n",
            " ['George_W_Bush' '00111.png']\n",
            " ['George_W_Bush' '00178.png']\n",
            " ['Hugo_Chavez' '00531.png']\n",
            " ['Donald_Rumsfeld' '00596.png']\n",
            " ['George_W_Bush' '00034.png']\n",
            " ['Ariel_Sharon' '00214.png']\n",
            " ['George_W_Bush' '00626.png']\n",
            " ['Hugo_Chavez' '00691.png']\n",
            " ['George_W_Bush' '00280.png']\n",
            " ['George_W_Bush' '00540.png']\n",
            " ['George_W_Bush' '00791.png']\n",
            " ['George_W_Bush' '00719.png']\n",
            " ['George_W_Bush' '00231.png']\n",
            " ['Colin_Powell' '00236.png']\n",
            " ['Hugo_Chavez' '00691.png']\n",
            " ['George_W_Bush' '00713.png']\n",
            " ['Tony_Blair' '00815.png']\n",
            " ['Colin_Powell' '00288.png']\n",
            " ['George_W_Bush' '00791.png']\n",
            " ['George_W_Bush' '00508.png']\n",
            " ['George_W_Bush' '00336.png']\n",
            " ['George_W_Bush' '00540.png']\n",
            " ['Colin_Powell' '00364.png']\n",
            " ['George_W_Bush' '00613.png']\n",
            " ['Donald_Rumsfeld' '00175.png']\n",
            " ['George_W_Bush' '00520.png']\n",
            " ['George_W_Bush' '00090.png']\n",
            " ['Tony_Blair' '00005.png']\n",
            " ['George_W_Bush' '00813.png']\n",
            " ['George_W_Bush' '00776.png']\n",
            " ['George_W_Bush' '00552.png']\n",
            " ['George_W_Bush' '00332.png']\n",
            " ['George_W_Bush' '00074.png']\n",
            " ['Gerhard_Schroeder' '00093.png']\n",
            " ['Gerhard_Schroeder' '00705.png']\n",
            " ['George_W_Bush' '00196.png']\n",
            " ['George_W_Bush' '00754.png']\n",
            " ['Hugo_Chavez' '00891.png']\n",
            " ['Tony_Blair' '00718.png']\n",
            " ['George_W_Bush' '00918.png']\n",
            " ['Tony_Blair' '00593.png']\n",
            " ['George_W_Bush' '00114.png']\n",
            " ['Colin_Powell' '00924.png']\n",
            " ['George_W_Bush' '00222.png']\n",
            " ['George_W_Bush' '00410.png']\n",
            " ['George_W_Bush' '00902.png']\n",
            " ['George_W_Bush' '00270.png']\n",
            " ['Hugo_Chavez' '00078.png']\n",
            " ['George_W_Bush' '00754.png']\n",
            " ['George_W_Bush' '00782.png']\n",
            " ['George_W_Bush' '00226.png']\n",
            " ['Tony_Blair' '00778.png']\n",
            " ['George_W_Bush' '00713.png']\n",
            " ['George_W_Bush' '00142.png']\n",
            " ['George_W_Bush' '00843.png']\n",
            " ['George_W_Bush' '00528.png']\n",
            " ['Tony_Blair' '00930.png']\n",
            " ['George_W_Bush' '00800.png']\n",
            " ['Donald_Rumsfeld' '00206.png']\n",
            " ['George_W_Bush' '00782.png']\n",
            " ['George_W_Bush' '00231.png']\n",
            " ['George_W_Bush' '00057.png']\n",
            " ['Donald_Rumsfeld' '00117.png']\n",
            " ['Ariel_Sharon' '00026.png']\n",
            " ['Hugo_Chavez' '00419.png']\n",
            " ['George_W_Bush' '00673.png']\n",
            " ['George_W_Bush' '00536.png']\n",
            " ['Colin_Powell' '00919.png']\n",
            " ['George_W_Bush' '00922.png']\n",
            " ['George_W_Bush' '00792.png']\n",
            " ['George_W_Bush' '00384.png']\n",
            " ['George_W_Bush' '00376.png']\n",
            " ['George_W_Bush' '00516.png']\n",
            " ['George_W_Bush' '00802.png']\n",
            " ['Colin_Powell' '00498.png']\n",
            " ['George_W_Bush' '00756.png']\n",
            " ['George_W_Bush' '00021.png']\n",
            " ['George_W_Bush' '00551.png']\n",
            " ['George_W_Bush' '00804.png']\n",
            " ['George_W_Bush' '00474.png']\n",
            " ['Hugo_Chavez' '00112.png']\n",
            " ['George_W_Bush' '00858.png']\n",
            " ['George_W_Bush' '00506.png']\n",
            " ['Donald_Rumsfeld' '00570.png']\n",
            " ['George_W_Bush' '00144.png']\n",
            " ['George_W_Bush' '00528.png']\n",
            " ['George_W_Bush' '00613.png']\n",
            " ['Colin_Powell' '00924.png']\n",
            " ['Colin_Powell' '00464.png']\n",
            " ['George_W_Bush' '00639.png']\n",
            " ['Donald_Rumsfeld' '00277.png']\n",
            " ['George_W_Bush' '00652.png']\n",
            " ['George_W_Bush' '00541.png']\n",
            " ['Gerhard_Schroeder' '00256.png']\n",
            " ['George_W_Bush' '00520.png']\n",
            " ['Donald_Rumsfeld' '00277.png']\n",
            " ['George_W_Bush' '00756.png']\n",
            " ['George_W_Bush' '00217.png']\n",
            " ['Donald_Rumsfeld' '00774.png']\n",
            " ['Tony_Blair' '00020.png']\n",
            " ['George_W_Bush' '00226.png']\n",
            " ['George_W_Bush' '00034.png']\n",
            " ['Donald_Rumsfeld' '00441.png']\n",
            " ['George_W_Bush' '00438.png']\n",
            " ['Donald_Rumsfeld' '00235.png']\n",
            " ['George_W_Bush' '00248.png']\n",
            " ['Ariel_Sharon' '00462.png']\n",
            " ['Tony_Blair' '00201.png']\n",
            " ['George_W_Bush' '00624.png']\n",
            " ['George_W_Bush' '00802.png']\n",
            " ['George_W_Bush' '00507.png']\n",
            " ['George_W_Bush' '00632.png']\n",
            " ['George_W_Bush' '00887.png']\n",
            " ['George_W_Bush' '00621.png']\n",
            " ['Colin_Powell' '00503.png']\n",
            " ['George_W_Bush' '00180.png']\n",
            " ['George_W_Bush' '00563.png']\n",
            " ['Hugo_Chavez' '00112.png']\n",
            " ['Gerhard_Schroeder' '00102.png']\n",
            " ['George_W_Bush' '00864.png']\n",
            " ['Donald_Rumsfeld' '00175.png']\n",
            " ['George_W_Bush' '00644.png']\n",
            " ['Donald_Rumsfeld' '00175.png']\n",
            " ['George_W_Bush' '00298.png']\n",
            " ['George_W_Bush' '00248.png']\n",
            " ['George_W_Bush' '00661.png']\n",
            " ['Colin_Powell' '00233.png']\n",
            " ['Gerhard_Schroeder' '00488.png']\n",
            " ['Colin_Powell' '00001.png']\n",
            " ['Gerhard_Schroeder' '00174.png']\n",
            " ['Tony_Blair' '00909.png']\n",
            " ['Colin_Powell' '00407.png']\n",
            " ['George_W_Bush' '00231.png']\n",
            " ['Gerhard_Schroeder' '00716.png']\n",
            " ['George_W_Bush' '00336.png']\n",
            " ['George_W_Bush' '00438.png']\n",
            " ['Gerhard_Schroeder' '00372.png']\n",
            " ['Gerhard_Schroeder' '00749.png']\n",
            " ['Tony_Blair' '00593.png']\n",
            " ['Tony_Blair' '00402.png']\n",
            " ['Gerhard_Schroeder' '00403.png']\n",
            " ['Ariel_Sharon' '00462.png']\n",
            " ['Tony_Blair' '00038.png']\n",
            " ['Tony_Blair' '00766.png']\n",
            " ['Tony_Blair' '00137.png']\n",
            " ['Tony_Blair' '00593.png']\n",
            " ['George_W_Bush' '00791.png']\n",
            " ['Gerhard_Schroeder' '00595.png']\n",
            " ['Tony_Blair' '00742.png']\n",
            " ['Hugo_Chavez' '00531.png']\n",
            " ['George_W_Bush' '00740.png']\n",
            " ['George_W_Bush' '00544.png']\n",
            " ['Tony_Blair' '00003.png']\n",
            " ['Colin_Powell' '00159.png']\n",
            " ['Hugo_Chavez' '00419.png']\n",
            " ['Hugo_Chavez' '00809.png']\n",
            " ['Hugo_Chavez' '00419.png']\n",
            " ['Gerhard_Schroeder' '00868.png']\n",
            " ['Gerhard_Schroeder' '00645.png']\n",
            " ['Hugo_Chavez' '00112.png']\n",
            " ['Hugo_Chavez' '00009.png']\n",
            " ['Hugo_Chavez' '00913.png']\n",
            " ['Gerhard_Schroeder' '00372.png']\n",
            " ['Hugo_Chavez' '00112.png']\n",
            " ['Hugo_Chavez' '00728.png']\n",
            " ['Hugo_Chavez' '00009.png']\n",
            " ['Tony_Blair' '00736.png']\n",
            " ['George_W_Bush' '00370.png']\n",
            " ['Tony_Blair' '00219.png']\n",
            " ['Tony_Blair' '00014.png']\n",
            " ['Tony_Blair' '00560.png']\n",
            " ['Tony_Blair' '00766.png']\n",
            " ['Tony_Blair' '00319.png']\n",
            " ['George_W_Bush' '00826.png']\n",
            " ['Tony_Blair' '00493.png']\n",
            " ['Tony_Blair' '00952.png']\n",
            " ['George_W_Bush' '00655.png']\n",
            " ['Tony_Blair' '00268.png']\n",
            " ['George_W_Bush' '00017.png']\n",
            " ['Tony_Blair' '00360.png']\n",
            " ['Donald_Rumsfeld' '00509.png']\n",
            " ['Tony_Blair' '00014.png']\n",
            " ['Tony_Blair' '00665.png']\n",
            " ['George_W_Bush' '00152.png']\n",
            " ['George_W_Bush' '00567.png']\n",
            " ['George_W_Bush' '00198.png']\n",
            " ['Tony_Blair' '00014.png']\n",
            " ['George_W_Bush' '00551.png']\n",
            " ['George_W_Bush' '00131.png']\n",
            " ['George_W_Bush' '00604.png']\n",
            " ['George_W_Bush' '00254.png']\n",
            " ['Gerhard_Schroeder' '00619.png']\n",
            " ['George_W_Bush' '00963.png']\n",
            " ['Colin_Powell' '00869.png']\n",
            " ['Colin_Powell' '00498.png']\n",
            " ['George_W_Bush' '00506.png']\n",
            " ['Colin_Powell' '00637.png']\n",
            " ['Gerhard_Schroeder' '00264.png']\n",
            " ['Colin_Powell' '00092.png']\n",
            " ['Tony_Blair' '00653.png']\n",
            " ['George_W_Bush' '00111.png']\n",
            " ['Donald_Rumsfeld' '00906.png']]\n",
            "322\n"
          ]
        }
      ]
    },
    {
      "cell_type": "code",
      "source": [
        "correct_dist = 0\n",
        "for i in range(len(y_pred_euc)) :\n",
        "  if y_pred_euc[i,0] == test_info[i,0] :\n",
        "    correct_dist += 1\n",
        "\n",
        "print(correct_dist)\n",
        "print(\"%.2f\" %(correct_dist/len(y_pred_euc) * 100))"
      ],
      "metadata": {
        "colab": {
          "base_uri": "https://localhost:8080/"
        },
        "id": "wkTUhnpvPJ_4",
        "outputId": "d6dad505-b642-4c0f-c1e8-cc5925c76bf8"
      },
      "execution_count": null,
      "outputs": [
        {
          "output_type": "stream",
          "name": "stdout",
          "text": [
            "177\n",
            "54.97\n"
          ]
        }
      ]
    },
    {
      "cell_type": "markdown",
      "source": [
        "## SGD 분류기를 사용해 매칭"
      ],
      "metadata": {
        "id": "8x7ZzMTkUIqM"
      }
    },
    {
      "cell_type": "code",
      "source": [
        "from sklearn.linear_model import SGDClassifier\n",
        "\n",
        "x_train = np.array(x.T,dtype='int')\n",
        "print(x_train.shape)\n",
        "\n",
        "sgd = SGDClassifier(max_iter=10000)\n",
        "sgd.fit(x_train, train_info[:,0])"
      ],
      "metadata": {
        "colab": {
          "base_uri": "https://localhost:8080/"
        },
        "id": "tGnlR-aePJ3w",
        "outputId": "e5b0a06b-692b-4b4f-8289-25b5afe028da"
      },
      "execution_count": null,
      "outputs": [
        {
          "output_type": "stream",
          "name": "stdout",
          "text": [
            "(966, 128)\n"
          ]
        },
        {
          "output_type": "stream",
          "name": "stderr",
          "text": [
            "/usr/local/lib/python3.7/dist-packages/ipykernel_launcher.py:3: ComplexWarning: Casting complex values to real discards the imaginary part\n",
            "  This is separate from the ipykernel package so we can avoid doing imports until\n"
          ]
        },
        {
          "output_type": "execute_result",
          "data": {
            "text/plain": [
              "SGDClassifier(max_iter=10000)"
            ]
          },
          "metadata": {},
          "execution_count": 123
        }
      ]
    },
    {
      "cell_type": "code",
      "source": [
        "y_pred_sgd = np.array(y.T,dtype='int')\n",
        "\n",
        "y_pred_sgd = sgd.predict(y_pred_sgd)"
      ],
      "metadata": {
        "colab": {
          "base_uri": "https://localhost:8080/"
        },
        "id": "xeHkN7wdhRAh",
        "outputId": "f0c017f9-f985-4a66-d17c-6fb2cdc65120"
      },
      "execution_count": null,
      "outputs": [
        {
          "output_type": "stream",
          "name": "stderr",
          "text": [
            "/usr/local/lib/python3.7/dist-packages/ipykernel_launcher.py:1: ComplexWarning: Casting complex values to real discards the imaginary part\n",
            "  \"\"\"Entry point for launching an IPython kernel.\n"
          ]
        }
      ]
    },
    {
      "cell_type": "code",
      "source": [
        "correct_sgd = 0\n",
        "for i in range(len(y_pred_sgd)) :\n",
        "  if y_pred_sgd[i] == test_info[i,0] :\n",
        "    correct_sgd += 1\n",
        "\n",
        "print(correct_sgd)\n",
        "print(\"%.2f\" %(correct_sgd/len(y_pred_sgd) * 100))"
      ],
      "metadata": {
        "colab": {
          "base_uri": "https://localhost:8080/"
        },
        "id": "vncEed_chQ5D",
        "outputId": "fef4d011-d996-47bf-acc3-3a3a908d9172"
      },
      "execution_count": null,
      "outputs": [
        {
          "output_type": "stream",
          "name": "stdout",
          "text": [
            "191\n",
            "59.32\n"
          ]
        }
      ]
    },
    {
      "cell_type": "markdown",
      "source": [
        "## Metric 계산"
      ],
      "metadata": {
        "id": "R8CYaCr1URns"
      }
    },
    {
      "cell_type": "code",
      "source": [
        "from sklearn.metrics import *\n",
        "\n",
        "print(\"Euclidean distance Confusion matrix : \")\n",
        "print(confusion_matrix(test_info[:,0], y_pred_euc[:,0]))\n",
        "print(classification_report(test_info[:,0], y_pred_euc[:,0],\n",
        "                            target_names=[\"Ariel_Sharon\", \"Colin_Powell\", \"Donald_Rumsfeld\", \"George_W_Bush\", \"Gerhard_Schroeder\",\"Hugo_Chavez\",\"Tony_Blair\"]))\n",
        "\n",
        "print(\"SGD Confusion matrix : \")\n",
        "print(confusion_matrix(test_info[:,0], y_pred_sgd))\n",
        "print(classification_report(test_info[:,0], y_pred_sgd,\n",
        "                            target_names=[\"Ariel_Sharon\", \"Colin_Powell\", \"Donald_Rumsfeld\", \"George_W_Bush\", \"Gerhard_Schroeder\",\"Hugo_Chavez\",\"Tony_Blair\"]))\n",
        "\n"
      ],
      "metadata": {
        "id": "VREcCJ1ohQxd",
        "colab": {
          "base_uri": "https://localhost:8080/"
        },
        "outputId": "1fe1d6af-8a36-42d6-ff6b-1ee5d44cdb7a"
      },
      "execution_count": null,
      "outputs": [
        {
          "output_type": "stream",
          "name": "stdout",
          "text": [
            "Euclidean distance Confusion matrix : \n",
            "[[  5   4   2   1   1   0   0]\n",
            " [  3  28   9  13   2   2   3]\n",
            " [  3   3  14   7   0   0   0]\n",
            " [  3   9  12 100   5   8   9]\n",
            " [  1   3   0   5   7   1   8]\n",
            " [  0   1   0   1   3   9   1]\n",
            " [  0   4   2  14   2   0  14]]\n",
            "                   precision    recall  f1-score   support\n",
            "\n",
            "     Ariel_Sharon       0.33      0.38      0.36        13\n",
            "     Colin_Powell       0.54      0.47      0.50        60\n",
            "  Donald_Rumsfeld       0.36      0.52      0.42        27\n",
            "    George_W_Bush       0.71      0.68      0.70       146\n",
            "Gerhard_Schroeder       0.35      0.28      0.31        25\n",
            "      Hugo_Chavez       0.45      0.60      0.51        15\n",
            "       Tony_Blair       0.40      0.39      0.39        36\n",
            "\n",
            "         accuracy                           0.55       322\n",
            "        macro avg       0.45      0.47      0.46       322\n",
            "     weighted avg       0.56      0.55      0.55       322\n",
            "\n",
            "SGD Confusion matrix : \n",
            "[[ 4  2  3  3  1  0  0]\n",
            " [ 1 43  8  5  1  1  1]\n",
            " [ 3  6 11  3  2  0  2]\n",
            " [ 0 14 22 96  3  6  5]\n",
            " [ 0  2  3  4  9  2  5]\n",
            " [ 0  0  3  1  2  6  3]\n",
            " [ 0  3  1  3  5  2 22]]\n",
            "                   precision    recall  f1-score   support\n",
            "\n",
            "     Ariel_Sharon       0.50      0.31      0.38        13\n",
            "     Colin_Powell       0.61      0.72      0.66        60\n",
            "  Donald_Rumsfeld       0.22      0.41      0.28        27\n",
            "    George_W_Bush       0.83      0.66      0.74       146\n",
            "Gerhard_Schroeder       0.39      0.36      0.37        25\n",
            "      Hugo_Chavez       0.35      0.40      0.38        15\n",
            "       Tony_Blair       0.58      0.61      0.59        36\n",
            "\n",
            "         accuracy                           0.59       322\n",
            "        macro avg       0.50      0.49      0.49       322\n",
            "     weighted avg       0.64      0.59      0.61       322\n",
            "\n"
          ]
        }
      ]
    },
    {
      "cell_type": "markdown",
      "source": [
        "## 내 얼굴 읽어오기"
      ],
      "metadata": {
        "id": "XGEQlR3J5Ijs"
      }
    },
    {
      "cell_type": "code",
      "source": [
        "import dlib\n",
        "\n",
        "img_bgr = cv2.imread('my_face.jpg')\n",
        "img_show = img_bgr.copy()\n",
        "\n",
        "detector_hog = dlib.get_frontal_face_detector()\n",
        "\n",
        "img_rgb = cv2.cvtColor(img_bgr, cv2.COLOR_BGR2RGB)\n",
        "dlib_rects = detector_hog(img_rgb, 1)\n",
        "\n",
        "\n",
        "for dlib_rect in dlib_rects:\n",
        "    l = dlib_rect.left()\n",
        "    t = dlib_rect.top()\n",
        "    r = dlib_rect.right()\n",
        "    b = dlib_rect.bottom()\n",
        "\n",
        "    cv2.rectangle(img_rgb, (l,t), (r,b),\n",
        "\t\t\t\t\t\t\t\t\t(0,255,0), 2, lineType=cv2.LINE_AA)\n",
        "\n",
        "print(l, t, r, b)\n",
        "plt.imshow(img_rgb)\n",
        "plt.show()"
      ],
      "metadata": {
        "colab": {
          "base_uri": "https://localhost:8080/",
          "height": 287
        },
        "id": "TXstCdqn5ZO_",
        "outputId": "c03df322-f60b-48b5-bfc2-8ec422e50d2a"
      },
      "execution_count": null,
      "outputs": [
        {
          "output_type": "stream",
          "name": "stdout",
          "text": [
            "81 133 236 288\n"
          ]
        },
        {
          "output_type": "display_data",
          "data": {
            "text/plain": [
              "<Figure size 432x288 with 1 Axes>"
            ],
            "image/png": "[encoded data removed]"
          },
          "metadata": {
            "needs_background": "light"
          }
        }
      ]
    },
    {
      "cell_type": "code",
      "source": [
        "t = t - 55\n",
        "\n",
        "my_img = img_bgr[t:b,l:r].copy()\n",
        "my_img = cv2.resize(my_img,(37, 50))\n",
        "my_img = cv2.cvtColor(my_img, cv2.COLOR_BGR2GRAY)\n",
        "\n",
        "plt.imshow(my_img, cmap='gray')\n",
        "plt.show()"
      ],
      "metadata": {
        "colab": {
          "base_uri": "https://localhost:8080/",
          "height": 267
        },
        "id": "KodMZLd-1AGc",
        "outputId": "921965e9-c230-452a-e898-851d9a149a5e"
      },
      "execution_count": null,
      "outputs": [
        {
          "output_type": "display_data",
          "data": {
            "text/plain": [
              "<Figure size 432x288 with 1 Axes>"
            ],
            "image/png": "[encoded data removed]"
          },
          "metadata": {
            "needs_background": "light"
          }
        }
      ]
    },
    {
      "cell_type": "code",
      "source": [
        "my_data = my_img.reshape(-1)\n",
        "my_data = np.array(my_data, dtype='float')\n",
        "\n",
        "my_data = my_data - m\n",
        "my_y = V.T @ my_data"
      ],
      "metadata": {
        "id": "SHn4O74N5ZD1"
      },
      "execution_count": null,
      "outputs": []
    },
    {
      "cell_type": "code",
      "source": [
        "my_pred = []\n",
        "\n",
        "min = 99999999\n",
        "index = -1\n",
        "for i in range(len(x.T)) :\n",
        "  tmp = my_y - x[:,i]\n",
        "  dist = np.sqrt(tmp @ tmp.T)\n",
        "  if(min > dist) :\n",
        "    min = dist\n",
        "    index = i\n",
        "my_pred.append(train_info[index].tolist())\n",
        "\n",
        "print(my_pred)"
      ],
      "metadata": {
        "colab": {
          "base_uri": "https://localhost:8080/"
        },
        "id": "lDuz-bPNBINx",
        "outputId": "8b479e07-3a41-4e50-9cb9-de7a455c6503"
      },
      "execution_count": null,
      "outputs": [
        {
          "output_type": "stream",
          "name": "stdout",
          "text": [
            "[['George_W_Bush', '00141.png']]\n"
          ]
        }
      ]
    }
  ]
}